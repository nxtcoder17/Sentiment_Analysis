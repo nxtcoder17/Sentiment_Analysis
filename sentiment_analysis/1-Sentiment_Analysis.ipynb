{
 "cells": [
  {
   "cell_type": "code",
   "execution_count": 1,
   "metadata": {},
   "outputs": [],
   "source": [
    "import spacy\n",
    "import nltk"
   ]
  },
  {
   "cell_type": "code",
   "execution_count": 3,
   "metadata": {},
   "outputs": [
    {
     "name": "stderr",
     "output_type": "stream",
     "text": [
      "[nltk_data] Downloading package vader_lexicon to\n",
      "[nltk_data]     /home/balor/nltk_data...\n",
      "[nltk_data]   Package vader_lexicon is already up-to-date!\n"
     ]
    },
    {
     "data": {
      "text/plain": [
       "True"
      ]
     },
     "execution_count": 3,
     "metadata": {},
     "output_type": "execute_result"
    }
   ],
   "source": [
    "nltk.download ('vader_lexicon')"
   ]
  },
  {
   "cell_type": "code",
   "execution_count": 4,
   "metadata": {},
   "outputs": [],
   "source": [
    "from nltk.sentiment.vader import SentimentIntensityAnalyzer"
   ]
  },
  {
   "cell_type": "code",
   "execution_count": 17,
   "metadata": {},
   "outputs": [],
   "source": [
    "nlp = spacy.load ('en_core_web_lg')\n",
    "sia = SentimentIntensityAnalyzer ()"
   ]
  },
  {
   "cell_type": "code",
   "execution_count": 18,
   "metadata": {},
   "outputs": [],
   "source": [
    "a = \"In Barbeque Nation, Noida The NonVeg Bufet was pretty bad but service was good\""
   ]
  },
  {
   "cell_type": "code",
   "execution_count": 19,
   "metadata": {},
   "outputs": [
    {
     "data": {
      "text/plain": [
       "{'neg': 0.117, 'neu': 0.573, 'pos': 0.31, 'compound': 0.5719}"
      ]
     },
     "execution_count": 19,
     "metadata": {},
     "output_type": "execute_result"
    }
   ],
   "source": [
    "sia.polarity_scores (a)"
   ]
  },
  {
   "cell_type": "code",
   "execution_count": 20,
   "metadata": {},
   "outputs": [
    {
     "data": {
      "text/plain": [
       "{'neg': 0.263, 'neu': 0.443, 'pos': 0.294, 'compound': -0.128}"
      ]
     },
     "execution_count": 20,
     "metadata": {},
     "output_type": "execute_result"
    }
   ],
   "source": [
    "b = 'The Food was pretty awesome but service was equally poor.'\n",
    "sia.polarity_scores (b)"
   ]
  },
  {
   "cell_type": "code",
   "execution_count": 21,
   "metadata": {},
   "outputs": [
    {
     "data": {
      "text/plain": [
       "{'neg': 0.158, 'neu': 0.423, 'pos': 0.419, 'compound': 0.5719}"
      ]
     },
     "execution_count": 21,
     "metadata": {},
     "output_type": "execute_result"
    }
   ],
   "source": [
    "c = 'The Food was pretty bad but service was good'\n",
    "sia.polarity_scores (c)\n"
   ]
  },
  {
   "cell_type": "code",
   "execution_count": 22,
   "metadata": {},
   "outputs": [
    {
     "data": {
      "text/plain": [
       "{'neg': 0.206, 'neu': 0.484, 'pos': 0.31, 'compound': 0.3182}"
      ]
     },
     "execution_count": 22,
     "metadata": {},
     "output_type": "execute_result"
    }
   ],
   "source": [
    "d = 'The service was worst but food was good'\n",
    "sia.polarity_scores(d)"
   ]
  },
  {
   "cell_type": "code",
   "execution_count": 23,
   "metadata": {},
   "outputs": [],
   "source": [
    "import string"
   ]
  },
  {
   "cell_type": "code",
   "execution_count": 24,
   "metadata": {},
   "outputs": [
    {
     "data": {
      "text/plain": [
       "{'neg': 0.177, 'neu': 0.472, 'pos': 0.35, 'compound': 0.296}"
      ]
     },
     "execution_count": 24,
     "metadata": {},
     "output_type": "execute_result"
    }
   ],
   "source": [
    "e = \"The food was pretty bad but service was okay\"\n",
    "sia.polarity_scores (e)"
   ]
  },
  {
   "cell_type": "code",
   "execution_count": 26,
   "metadata": {},
   "outputs": [
    {
     "data": {
      "text/plain": [
       "{'neg': 0.246, 'neu': 0.553, 'pos': 0.201, 'compound': -0.1429}"
      ]
     },
     "execution_count": 26,
     "metadata": {},
     "output_type": "execute_result"
    }
   ],
   "source": [
    "f = \"The service was awesome but service was not good\"\n",
    "sia.polarity_scores (f)"
   ]
  },
  {
   "cell_type": "code",
   "execution_count": 52,
   "metadata": {},
   "outputs": [
    {
     "name": "stdout",
     "output_type": "stream",
     "text": [
      "The 90 DET\n",
      "service 92 NOUN\n",
      "was 100 VERB\n",
      "awesome 84 ADJ\n",
      "but 89 CCONJ\n",
      "service 92 NOUN\n",
      "was 100 VERB\n",
      "not 86 ADV\n",
      "good 84 ADJ\n"
     ]
    }
   ],
   "source": [
    "doc = nlp (f)\n",
    "splits = []\n",
    "start = 0\n",
    "for token in doc:\n",
    "    print (token, token.pos, token.pos_)\n",
    "    if token.pos == 89:\n",
    "        splits.append (doc[start: token.i])\n",
    "        start = token.i + 1\n",
    "splits.append (doc[start: ])"
   ]
  },
  {
   "cell_type": "code",
   "execution_count": 53,
   "metadata": {},
   "outputs": [
    {
     "data": {
      "text/plain": [
       "[The service was awesome, service was not good]"
      ]
     },
     "execution_count": 53,
     "metadata": {},
     "output_type": "execute_result"
    }
   ],
   "source": [
    "splits"
   ]
  },
  {
   "cell_type": "code",
   "execution_count": 82,
   "metadata": {},
   "outputs": [],
   "source": [
    "def split_on_conjunctions (string):\n",
    "    doc = nlp(string)\n",
    "    start = 0\n",
    "    splits = []\n",
    "    for token in doc:\n",
    "        print (token, token.pos, token.pos_, token.tag_, spacy.explain (token.tag_))\n",
    "        #print (token, token.sentiment)\n",
    "        if token.pos == 89:\n",
    "            splits.append ([x for x in doc[start: token.i] if x.pos != 86])\n",
    "            start = token.i + 1\n",
    "    splits.append ([x for x in doc[start: ] if x.pos != 86])\n",
    "    return splits"
   ]
  },
  {
   "cell_type": "code",
   "execution_count": 83,
   "metadata": {},
   "outputs": [
    {
     "name": "stdout",
     "output_type": "stream",
     "text": [
      "The 90 DET DT determiner\n",
      "food 92 NOUN NN noun, singular or mass\n",
      "was 100 VERB VBD verb, past tense\n",
      "pretty 86 ADV RB adverb\n",
      "bad 84 ADJ JJ adjective\n",
      "but 89 CCONJ CC conjunction, coordinating\n",
      "service 92 NOUN NN noun, singular or mass\n",
      "was 100 VERB VBD verb, past tense\n",
      "okay 84 ADJ JJ adjective\n"
     ]
    }
   ],
   "source": [
    "review_e = split_on_conjunctions (e)"
   ]
  },
  {
   "cell_type": "code",
   "execution_count": 81,
   "metadata": {},
   "outputs": [
    {
     "data": {
      "text/plain": [
       "[[The, food, was, pretty, bad], [service, was, okay]]"
      ]
     },
     "execution_count": 81,
     "metadata": {},
     "output_type": "execute_result"
    }
   ],
   "source": [
    "review_e"
   ]
  },
  {
   "cell_type": "code",
   "execution_count": 68,
   "metadata": {},
   "outputs": [
    {
     "name": "stdout",
     "output_type": "stream",
     "text": [
      "The food was pretty bad\n",
      "{'neg': 0.361, 'neu': 0.309, 'pos': 0.33, 'compound': -0.0772}\n",
      "\n",
      "service was okay\n",
      "{'neg': 0.0, 'neu': 0.513, 'pos': 0.487, 'compound': 0.2263}\n",
      "\n"
     ]
    }
   ],
   "source": [
    "for entry in review_e:\n",
    "    print(entry)\n",
    "    print(sia.polarity_scores (' '.join(map(str, entry))))\n",
    "    print()"
   ]
  },
  {
   "cell_type": "code",
   "execution_count": null,
   "metadata": {},
   "outputs": [],
   "source": []
  }
 ],
 "metadata": {
  "kernelspec": {
   "display_name": "Python 3",
   "language": "python",
   "name": "python3"
  },
  "language_info": {
   "codemirror_mode": {
    "name": "ipython",
    "version": 3
   },
   "file_extension": ".py",
   "mimetype": "text/x-python",
   "name": "python",
   "nbconvert_exporter": "python",
   "pygments_lexer": "ipython3",
   "version": "3.7.3"
  }
 },
 "nbformat": 4,
 "nbformat_minor": 2
}
