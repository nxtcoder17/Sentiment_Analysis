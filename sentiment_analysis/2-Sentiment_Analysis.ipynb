{
 "cells": [
  {
   "cell_type": "code",
   "execution_count": 16,
   "metadata": {},
   "outputs": [],
   "source": [
    "import spacy\n",
    "import nltk\n",
    "from nltk.sentiment.vader import SentimentIntensityAnalyzer"
   ]
  },
  {
   "cell_type": "code",
   "execution_count": 20,
   "metadata": {},
   "outputs": [],
   "source": [
    "import string"
   ]
  },
  {
   "cell_type": "code",
   "execution_count": 21,
   "metadata": {},
   "outputs": [],
   "source": [
    "nlp = spacy.load (\"en_core_web_lg\")\n",
    "sia = SentimentIntensityAnalyzer()"
   ]
  },
  {
   "cell_type": "code",
   "execution_count": 74,
   "metadata": {},
   "outputs": [],
   "source": [
    "stop_words = set()\n",
    "stop_words.add ('the')\n",
    "stop_words.update (string.punctuation)"
   ]
  },
  {
   "cell_type": "code",
   "execution_count": 94,
   "metadata": {},
   "outputs": [],
   "source": [
    "# Remove all adverbs\n",
    "def clean_tokens (doc):\n",
    "    for token in doc:\n",
    "        print (token, token.pos_, token.tag_, spacy.explain (token.tag_))\n",
    "        if token.pos == 86 or token.text.lower() in stop_words:\n",
    "            pass\n",
    "        else:\n",
    "            yield token"
   ]
  },
  {
   "cell_type": "code",
   "execution_count": 95,
   "metadata": {},
   "outputs": [],
   "source": [
    "doc = nlp(\"The food was pretty bad but service was okay\")"
   ]
  },
  {
   "cell_type": "code",
   "execution_count": 96,
   "metadata": {},
   "outputs": [
    {
     "name": "stdout",
     "output_type": "stream",
     "text": [
      "The DET DT determiner\n",
      "food NOUN NN noun, singular or mass\n",
      "was VERB VBD verb, past tense\n",
      "pretty ADV RB adverb\n",
      "bad ADJ JJ adjective\n",
      "but CCONJ CC conjunction, coordinating\n",
      "service NOUN NN noun, singular or mass\n",
      "was VERB VBD verb, past tense\n",
      "okay ADJ JJ adjective\n"
     ]
    },
    {
     "data": {
      "text/plain": [
       "[food, was, bad, but, service, was, okay]"
      ]
     },
     "execution_count": 96,
     "metadata": {},
     "output_type": "execute_result"
    }
   ],
   "source": [
    "list(clean_tokens(doc))"
   ]
  },
  {
   "cell_type": "code",
   "execution_count": 97,
   "metadata": {},
   "outputs": [],
   "source": [
    "def split_on_conjunctions (tokens):\n",
    "    splits = []\n",
    "    part = []\n",
    "    for token in tokens:\n",
    "        #print (token)\n",
    "        if token.pos == 89:\n",
    "            splits.append (\" \".join (part))\n",
    "            part.clear()\n",
    "        else:\n",
    "            part.append (token.text)\n",
    "    if len(part) > 0:\n",
    "        splits.append (\" \".join(part))\n",
    "    return splits"
   ]
  },
  {
   "cell_type": "code",
   "execution_count": 98,
   "metadata": {},
   "outputs": [
    {
     "name": "stdout",
     "output_type": "stream",
     "text": [
      "The DET DT determiner\n",
      "food NOUN NN noun, singular or mass\n",
      "was VERB VBD verb, past tense\n",
      "pretty ADV RB adverb\n",
      "bad ADJ JJ adjective\n",
      "but CCONJ CC conjunction, coordinating\n",
      "service NOUN NN noun, singular or mass\n",
      "was VERB VBD verb, past tense\n",
      "okay ADJ JJ adjective\n"
     ]
    }
   ],
   "source": [
    "splits = split_on_conjunctions (clean_tokens(doc))"
   ]
  },
  {
   "cell_type": "code",
   "execution_count": 89,
   "metadata": {},
   "outputs": [
    {
     "data": {
      "text/plain": [
       "['food was bad', 'service was okay']"
      ]
     },
     "execution_count": 89,
     "metadata": {},
     "output_type": "execute_result"
    }
   ],
   "source": [
    "splits"
   ]
  },
  {
   "cell_type": "code",
   "execution_count": 90,
   "metadata": {},
   "outputs": [
    {
     "name": "stdout",
     "output_type": "stream",
     "text": [
      "food was bad [food]\n",
      "{'neg': 0.636, 'neu': 0.364, 'pos': 0.0, 'compound': -0.5423}\n",
      "\n",
      "service was okay [service]\n",
      "{'neg': 0.0, 'neu': 0.513, 'pos': 0.487, 'compound': 0.2263}\n",
      "\n"
     ]
    }
   ],
   "source": [
    "for entry in splits:\n",
    "    print (entry, f\"[{', '.join(map(str, nlp(entry).noun_chunks))}]\")\n",
    "    print (sia.polarity_scores (entry))\n",
    "    print()"
   ]
  },
  {
   "cell_type": "code",
   "execution_count": 91,
   "metadata": {},
   "outputs": [],
   "source": [
    "review = \"I liked the story of the movie, but the actors did not justified their roles\""
   ]
  },
  {
   "cell_type": "code",
   "execution_count": 99,
   "metadata": {},
   "outputs": [
    {
     "data": {
      "text/plain": [
       "{'neg': 0.172, 'neu': 0.715, 'pos': 0.113, 'compound': -0.2469}"
      ]
     },
     "execution_count": 99,
     "metadata": {},
     "output_type": "execute_result"
    }
   ],
   "source": [
    "sia.polarity_scores (review)"
   ]
  },
  {
   "cell_type": "code",
   "execution_count": 101,
   "metadata": {},
   "outputs": [
    {
     "name": "stdout",
     "output_type": "stream",
     "text": [
      "I PRON PRP pronoun, personal\n",
      "liked VERB VBD verb, past tense\n",
      "the DET DT determiner\n",
      "story NOUN NN noun, singular or mass\n",
      "of ADP IN conjunction, subordinating or preposition\n",
      "the DET DT determiner\n",
      "movie NOUN NN noun, singular or mass\n",
      ", PUNCT , punctuation mark, comma\n",
      "but CCONJ CC conjunction, coordinating\n",
      "the DET DT determiner\n",
      "actors NOUN NNS noun, plural\n",
      "did VERB VBD verb, past tense\n",
      "not ADV RB adverb\n",
      "justified VERB VBN verb, past participle\n",
      "their DET PRP$ pronoun, possessive\n",
      "roles NOUN NNS noun, plural\n"
     ]
    },
    {
     "data": {
      "text/plain": [
       "[I, liked, story, of, movie, but, actors, did, justified, their, roles]"
      ]
     },
     "execution_count": 101,
     "metadata": {},
     "output_type": "execute_result"
    }
   ],
   "source": [
    "list (clean_tokens (nlp(review)))"
   ]
  },
  {
   "cell_type": "code",
   "execution_count": 93,
   "metadata": {},
   "outputs": [
    {
     "name": "stdout",
     "output_type": "stream",
     "text": [
      "I PRON PRP pronoun, personal\n",
      "liked VERB VBD verb, past tense\n",
      "story NOUN NN noun, singular or mass\n",
      "of ADP IN conjunction, subordinating or preposition\n",
      "movie NOUN NN noun, singular or mass\n",
      "but CCONJ CC conjunction, coordinating\n",
      "actors NOUN NNS noun, plural\n",
      "did VERB VBD verb, past tense\n",
      "justified VERB VBN verb, past participle\n",
      "their DET PRP$ pronoun, possessive\n",
      "roles NOUN NNS noun, plural\n"
     ]
    }
   ],
   "source": [
    "splits = split_on_conjunctions (clean_tokens(nlp(review)))"
   ]
  },
  {
   "cell_type": "code",
   "execution_count": 86,
   "metadata": {},
   "outputs": [
    {
     "data": {
      "text/plain": [
       "['I liked story of movie', 'actors did justified their roles']"
      ]
     },
     "execution_count": 86,
     "metadata": {},
     "output_type": "execute_result"
    }
   ],
   "source": [
    "splits"
   ]
  },
  {
   "cell_type": "code",
   "execution_count": null,
   "metadata": {},
   "outputs": [],
   "source": []
  }
 ],
 "metadata": {
  "kernelspec": {
   "display_name": "Python 3",
   "language": "python",
   "name": "python3"
  },
  "language_info": {
   "codemirror_mode": {
    "name": "ipython",
    "version": 3
   },
   "file_extension": ".py",
   "mimetype": "text/x-python",
   "name": "python",
   "nbconvert_exporter": "python",
   "pygments_lexer": "ipython3",
   "version": "3.7.4"
  }
 },
 "nbformat": 4,
 "nbformat_minor": 2
}
