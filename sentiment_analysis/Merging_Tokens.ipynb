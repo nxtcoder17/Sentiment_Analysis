{
 "cells": [
  {
   "cell_type": "code",
   "execution_count": 1,
   "metadata": {},
   "outputs": [],
   "source": [
    "import spacy"
   ]
  },
  {
   "cell_type": "code",
   "execution_count": 2,
   "metadata": {},
   "outputs": [],
   "source": [
    "nlp = spacy.load (\"en_core_web_sm\")"
   ]
  },
  {
   "cell_type": "code",
   "execution_count": 14,
   "metadata": {},
   "outputs": [],
   "source": [
    "doc1 = nlp(\"Both veg and non veg food items were amazing.\")\n",
    "doc2 = nlp(\"Both veg and non-veg food items were amazing.\")\n",
    "doc3 = nlp(\"Both veg and Non-Veg food items were amazing.\")\n",
    "doc4 = nlp(\"Both veg and Non Veg food items were amazing.\")"
   ]
  },
  {
   "cell_type": "code",
   "execution_count": 15,
   "metadata": {},
   "outputs": [
    {
     "name": "stdout",
     "output_type": "stream",
     "text": [
      "10\n",
      "Both # veg # and # non # veg # food # items # were # amazing # . # "
     ]
    }
   ],
   "source": [
    "print (len(doc1))\n",
    "for t in doc1:\n",
    "    print (t, end=' # ')"
   ]
  },
  {
   "cell_type": "code",
   "execution_count": 16,
   "metadata": {},
   "outputs": [],
   "source": [
    "from spacy.matcher import Matcher"
   ]
  },
  {
   "cell_type": "code",
   "execution_count": 17,
   "metadata": {},
   "outputs": [],
   "source": [
    "pattern = [\n",
    "    [{\"LOWER\": \"non\"}, {\"IS_PUNCT\": True}, {\"LOWER\": \"veg\"}],\n",
    "    [{\"LOWER\": \"non\"}, {\"LOWER\": \"veg\"}]\n",
    "]"
   ]
  },
  {
   "cell_type": "code",
   "execution_count": null,
   "metadata": {},
   "outputs": [],
   "source": []
  },
  {
   "cell_type": "code",
   "execution_count": 18,
   "metadata": {},
   "outputs": [],
   "source": [
    "matcher = Matcher(nlp.vocab)"
   ]
  },
  {
   "cell_type": "code",
   "execution_count": 19,
   "metadata": {},
   "outputs": [],
   "source": [
    "matcher.add ('nonveg', None, *pattern)"
   ]
  },
  {
   "cell_type": "code",
   "execution_count": 20,
   "metadata": {},
   "outputs": [
    {
     "name": "stdout",
     "output_type": "stream",
     "text": [
      "Non Veg\n"
     ]
    }
   ],
   "source": [
    "X = doc4\n",
    "matches = matcher (X)\n",
    "len (matches)\n",
    "for _,start,end in matches:\n",
    "    span = X[start: end]\n",
    "    span.merge()\n",
    "    print (span.text)"
   ]
  },
  {
   "cell_type": "code",
   "execution_count": null,
   "metadata": {},
   "outputs": [],
   "source": []
  },
  {
   "cell_type": "code",
   "execution_count": 21,
   "metadata": {},
   "outputs": [
    {
     "name": "stdout",
     "output_type": "stream",
     "text": [
      "9\n",
      "Both # veg # and # Non Veg # food # items # were # amazing # . # "
     ]
    }
   ],
   "source": [
    "print (len (X))\n",
    "for token in X:\n",
    "    print (token, end=' # ')"
   ]
  },
  {
   "cell_type": "code",
   "execution_count": 63,
   "metadata": {},
   "outputs": [],
   "source": [
    "# Veg and Non-veg using Regular Expressions"
   ]
  },
  {
   "cell_type": "code",
   "execution_count": 4,
   "metadata": {},
   "outputs": [
    {
     "name": "stdout",
     "output_type": "stream",
     "text": [
      "Food # did # n't # taste # good # and # service # ca # n't # be # good # . # "
     ]
    }
   ],
   "source": [
    "doc = nlp (\"Food didn't taste good and service can't be good.\")\n",
    "for token in doc:\n",
    "    print (token, end=' # ')"
   ]
  },
  {
   "cell_type": "code",
   "execution_count": 6,
   "metadata": {},
   "outputs": [],
   "source": [
    "matcher = Matcher (nlp.vocab)"
   ]
  },
  {
   "cell_type": "code",
   "execution_count": 29,
   "metadata": {},
   "outputs": [],
   "source": [
    "verb_patterns = [\n",
    "    [{\"TEXT\": {\"REGEX\": r\"ca|did|should|would|was\"}}, {\"LOWER\": \"n't\"}],\n",
    "]"
   ]
  },
  {
   "cell_type": "code",
   "execution_count": 30,
   "metadata": {},
   "outputs": [
    {
     "name": "stdout",
     "output_type": "stream",
     "text": [
      "[{'TEXT': {'REGEX': 'ca|did|should|would|was'}}, {'LOWER': \"n't\"}]\n"
     ]
    }
   ],
   "source": [
    "print (*verb_patterns)"
   ]
  },
  {
   "cell_type": "code",
   "execution_count": 31,
   "metadata": {},
   "outputs": [],
   "source": [
    "matcher.add ('neg_verbs', None, *verb_patterns)"
   ]
  },
  {
   "cell_type": "code",
   "execution_count": 32,
   "metadata": {},
   "outputs": [
    {
     "name": "stdout",
     "output_type": "stream",
     "text": [
      "didn't\n",
      "can't\n"
     ]
    }
   ],
   "source": [
    "matches = matcher (doc)\n",
    "for _, start, end in matches:\n",
    "    span = doc[start: end]\n",
    "    span.merge ()\n",
    "    print (span.text)"
   ]
  },
  {
   "cell_type": "code",
   "execution_count": 33,
   "metadata": {},
   "outputs": [
    {
     "name": "stdout",
     "output_type": "stream",
     "text": [
      "Food # didn't # taste # good # and # service # can't # be # good # . # "
     ]
    }
   ],
   "source": [
    "for token in doc:\n",
    "    print (token, end=' # ')"
   ]
  },
  {
   "cell_type": "code",
   "execution_count": null,
   "metadata": {},
   "outputs": [],
   "source": []
  }
 ],
 "metadata": {
  "kernelspec": {
   "display_name": "Python 3",
   "language": "python",
   "name": "python3"
  },
  "language_info": {
   "codemirror_mode": {
    "name": "ipython",
    "version": 3
   },
   "file_extension": ".py",
   "mimetype": "text/x-python",
   "name": "python",
   "nbconvert_exporter": "python",
   "pygments_lexer": "ipython3",
   "version": "3.7.4"
  }
 },
 "nbformat": 4,
 "nbformat_minor": 2
}
