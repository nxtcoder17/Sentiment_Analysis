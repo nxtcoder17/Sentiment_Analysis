{
 "cells": [
  {
   "cell_type": "code",
   "execution_count": 56,
   "metadata": {},
   "outputs": [],
   "source": [
    "import spacy\n",
    "import pickle\n",
    "import string"
   ]
  },
  {
   "cell_type": "code",
   "execution_count": 57,
   "metadata": {},
   "outputs": [],
   "source": [
    "from spacy.lang.en import STOP_WORDS"
   ]
  },
  {
   "cell_type": "code",
   "execution_count": 58,
   "metadata": {},
   "outputs": [],
   "source": [
    "from nltk.sentiment.vader import SentimentIntensityAnalyzer"
   ]
  },
  {
   "cell_type": "code",
   "execution_count": 94,
   "metadata": {},
   "outputs": [],
   "source": [
    "class Sentiment_Parser:\n",
    "    \"\"\" Wraps up everything related to sentiments in here \"\"\"\n",
    "    nlp = spacy.load(\"en_core_web_sm\")\n",
    "    sia = SentimentIntensityAnalyzer()\n",
    "    stop_words = set(STOP_WORDS)\n",
    "    stop_words.update(string.punctuation)\n",
    "    \n",
    "    def __init__(self, review):\n",
    "        self.review = Sentiment_Parser.nlp(review)\n",
    "        \n",
    "    def splitter (self):\n",
    "        self.splits = []\n",
    "        def _split (sentence):\n",
    "            start = 0\n",
    "            counter = 0\n",
    "            for token in sentence:\n",
    "                if token.pos == 89 or token.text.strip() == ',' or token.text.strip() == '.':\n",
    "                    if counter > start:\n",
    "                        self.splits.append (sentence[start: counter])\n",
    "                    start = counter + 1\n",
    "                counter += 1\n",
    "            if len (sentence[start: counter]) > 0:\n",
    "                self.splits.append (sentence[start: counter])\n",
    "        \n",
    "        for sent in self.review.sents:\n",
    "            # print (\"Sentence: \", sent)\n",
    "            _split(sent)\n",
    "            \n",
    "    def feature_extraction(self):\n",
    "        self.features = []\n",
    "        for entry in self.splits:\n",
    "            nouns = []\n",
    "            verbs = []\n",
    "            adjs = []\n",
    "            \n",
    "            adverb = None\n",
    "            \n",
    "            for t in entry:\n",
    "                if t.pos == 92 or t.pos == 96:\n",
    "                    \"\"\" If token is a Noun \"\"\"\n",
    "                    nouns.append(t)\n",
    "                elif t.pos == 84:\n",
    "                    \"\"\" If token is an Adjective \"\"\"\n",
    "                    ## Prior to adding the Adjectives tokens, we better check if an adverb is there\n",
    "                    if adverb:\n",
    "                        adjs.append(str(adverb) + \" \" + str(t))\n",
    "                    else:\n",
    "                        adjs.append(t)\n",
    "                elif t.pos == 100:\n",
    "                    \"\"\" If token is a Verb \"\"\"\n",
    "                    ## Prior to adding the Verb tokens, we better check if an adverb is there\n",
    "                    if adverb:\n",
    "                        verbs.append(str(adverb) + \" \" + str(t))\n",
    "                    else:\n",
    "                        verbs.append(t)\n",
    "                elif t.pos == 94:\n",
    "                    \"\"\" If token is an Adverb, (like : 'not')\"\"\"\n",
    "                    if adverb:\n",
    "                        adverb += \" \" + t\n",
    "                    else:\n",
    "                        adverb = t\n",
    "                    \n",
    "            if len(adjs) == 0:\n",
    "                adjs = verbs\n",
    "            self.features.append( (\",\".join(map(str, nouns)), \",\".join(map(str, adjs))) )\n",
    "            \n",
    "    def pprint(self):\n",
    "        self.splitter()\n",
    "        self.feature_extraction()\n",
    "        print(f\"\\tORIGINAL TEXT: {self.review}\\n\")\n",
    "        for entry, features in zip(self.splits, self.features):\n",
    "            print(f\"TEXT: {entry}\")\n",
    "            scores = Sentiment_Parser.sia.polarity_scores(str(entry))\n",
    "            \n",
    "            if scores['compound'] > 0:\n",
    "                result = \"POSITIVE\"\n",
    "            elif scores['compound'] < 0:\n",
    "                result = \"NEGATIVE\"\n",
    "            else:\n",
    "                result = \"NEUTRAL\"\n",
    "            \n",
    "            print(f\"RESULT: {result}\")\n",
    "            #print(f\"SCORE: {scores}\")\n",
    "            print(f\"Entity-Feature pair: {features}\")\n",
    "            print()"
   ]
  },
  {
   "cell_type": "code",
   "execution_count": 95,
   "metadata": {},
   "outputs": [
    {
     "name": "stdout",
     "output_type": "stream",
     "text": [
      "\tORIGINAL TEXT:  I liked the food but service was not good\n",
      "\n",
      "TEXT:  I liked the food\n",
      "RESULT: POSITIVE\n",
      "Entity-Feature pair: ('food', 'liked')\n",
      "\n",
      "TEXT: service was not good\n",
      "RESULT: NEGATIVE\n",
      "Entity-Feature pair: ('service', 'not good')\n",
      "\n"
     ]
    }
   ],
   "source": [
    "if __name__ == '__main__':\n",
    "    review2 = \" I liked the food but service was not good\"\n",
    "    sp = Sentiment_Parser(review2)\n",
    "    sp.pprint()\n",
    "    "
   ]
  },
  {
   "cell_type": "code",
   "execution_count": 96,
   "metadata": {},
   "outputs": [
    {
     "name": "stdout",
     "output_type": "stream",
     "text": [
      "\tORIGINAL TEXT: Place was crowded, lacked ambience and not so tasty food at all.\n",
      "\n",
      "TEXT: Place was crowded\n",
      "RESULT: NEUTRAL\n",
      "Entity-Feature pair: ('Place', 'crowded')\n",
      "\n",
      "TEXT: lacked ambience\n",
      "RESULT: NEUTRAL\n",
      "Entity-Feature pair: ('ambience', 'lacked')\n",
      "\n",
      "TEXT: not so tasty food at all\n",
      "RESULT: NEUTRAL\n",
      "Entity-Feature pair: ('food', 'not tasty')\n",
      "\n"
     ]
    }
   ],
   "source": [
    "review = \"Place was crowded, lacked ambience and not so tasty food at all.\"\n",
    "sp = Sentiment_Parser(review)\n",
    "sp.pprint()"
   ]
  },
  {
   "cell_type": "code",
   "execution_count": 97,
   "metadata": {},
   "outputs": [
    {
     "name": "stdout",
     "output_type": "stream",
     "text": [
      "\tORIGINAL TEXT: Nice Place, a bit costly but recommended\n",
      "\n",
      "TEXT: Nice Place\n",
      "RESULT: POSITIVE\n",
      "Entity-Feature pair: ('Nice,Place', '')\n",
      "\n",
      "TEXT: a bit costly\n",
      "RESULT: NEGATIVE\n",
      "Entity-Feature pair: ('bit', 'costly')\n",
      "\n",
      "TEXT: recommended\n",
      "RESULT: POSITIVE\n",
      "Entity-Feature pair: ('', 'recommended')\n",
      "\n"
     ]
    }
   ],
   "source": [
    "review = \"Nice Place, a bit costly but recommended\"\n",
    "sp = Sentiment_Parser(review)\n",
    "sp.pprint()"
   ]
  },
  {
   "cell_type": "code",
   "execution_count": 98,
   "metadata": {},
   "outputs": [
    {
     "name": "stdout",
     "output_type": "stream",
     "text": [
      "\tORIGINAL TEXT: Nice place for partying, friendly staffs and great food. Chicken Curry was damn tasty.\n",
      "\n",
      "TEXT: Nice place for partying\n",
      "RESULT: POSITIVE\n",
      "Entity-Feature pair: ('place', 'Nice')\n",
      "\n",
      "TEXT: friendly staffs\n",
      "RESULT: POSITIVE\n",
      "Entity-Feature pair: ('staffs', 'friendly')\n",
      "\n",
      "TEXT: great food\n",
      "RESULT: POSITIVE\n",
      "Entity-Feature pair: ('food', 'great')\n",
      "\n",
      "TEXT: Chicken Curry was damn tasty\n",
      "RESULT: NEGATIVE\n",
      "Entity-Feature pair: ('Chicken,Curry', 'tasty')\n",
      "\n"
     ]
    }
   ],
   "source": [
    "review = \"Nice place for partying, friendly staffs and great food. Chicken Curry was damn tasty.\"\n",
    "sp = Sentiment_Parser(review)\n",
    "sp.pprint()"
   ]
  },
  {
   "cell_type": "code",
   "execution_count": null,
   "metadata": {},
   "outputs": [],
   "source": []
  }
 ],
 "metadata": {
  "kernelspec": {
   "display_name": "Python 3",
   "language": "python",
   "name": "python3"
  },
  "language_info": {
   "codemirror_mode": {
    "name": "ipython",
    "version": 3
   },
   "file_extension": ".py",
   "mimetype": "text/x-python",
   "name": "python",
   "nbconvert_exporter": "python",
   "pygments_lexer": "ipython3",
   "version": "3.7.4"
  }
 },
 "nbformat": 4,
 "nbformat_minor": 2
}
