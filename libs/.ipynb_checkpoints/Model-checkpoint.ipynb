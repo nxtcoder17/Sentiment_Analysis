{
 "cells": [
  {
   "cell_type": "code",
   "execution_count": 1,
   "metadata": {},
   "outputs": [],
   "source": [
    "from sklearn.naive_bayes import MultinomialNB\n",
    "from sklearn.model_selection import train_test_split\n",
    "from sklearn.feature_extraction.text import TfidfVectorizer, CountVectorizer\n",
    "from sklearn.metrics import accuracy_score, confusion_matrix, classification_report\n",
    "\n",
    "from pathlib import Path\n",
    "import pickle\n",
    "\n",
    "import pandas as pd\n",
    "import numpy as np\n",
    "from review import Review"
   ]
  },
  {
   "cell_type": "code",
   "execution_count": 63,
   "metadata": {},
   "outputs": [],
   "source": [
    "##################################################################\n",
    "### Multinomial NaiveBayes Model for Sentiment Analysis Review ###\n",
    "##################################################################\n",
    "class NaiveBayes_Model (Review):\n",
    "    def __init__(self):\n",
    "        self.model = MultinomialNB()\n",
    "        self.accuracy = None\n",
    "        self.vectorizer = None\n",
    "        \n",
    "    def train(self, X=None, y=None, debug=False):\n",
    "        \"\"\"\n",
    "            X: the training data input\n",
    "            y: the correct label for the training data\n",
    "        \"\"\"\n",
    "        pickle_path = Path (\"multinomial_NB.pickle\")\n",
    "        if not debug and Path.exists (pickle_path):\n",
    "                self.vectorizer, self.model = pickle.load (open(pickle_path, \"rb\"))\n",
    "                print (\"!!! Multinomial_NB model already trained.....skipping the training\")\n",
    "                print(\"[help]: call method train() with debug=True argument\")\n",
    "                return;\n",
    "        \n",
    "        assert X is not None and y is not None, \"No data given, How do i train ? (.>_<.)\"\n",
    "        # self.vectorizer = TfidfVectorizer ()\n",
    "        # temp = self.vectorizer.fit_transform (X)\n",
    "        # features = self.vectorizer.get_feature_names()\n",
    "        \n",
    "        # self.vectorizer = TfidfVectorizer (ngram_range=(1, 1))\n",
    "        self.vectorizer = CountVectorizer (ngram_range=(1, 1))\n",
    "        temp = self.vectorizer.fit_transform (X)\n",
    "        features = self.vectorizer.get_feature_names()\n",
    "        \n",
    "        # Cause i personally only want Adjectives to be my features\n",
    "        #### The following code does the same thing  as filter is doing a couple of lines below\n",
    "        \"\"\"\n",
    "        items = []\n",
    "        for f in features:\n",
    "           if (self.pos(f)[0] in (84, 100))\n",
    "               items.append (f)\n",
    "        features = items\n",
    "        \"\"\"\n",
    "        ####\n",
    "        \n",
    "        features = list(filter(lambda a: 84 in self.pos(a) or 100 in self.pos(a), features))\n",
    "        \n",
    "        self.vectorizer = CountVectorizer (vocabulary = features, max_features=100)\n",
    "        X = self.vectorizer.fit_transform (X)\n",
    "        self.feature_names = self.vectorizer.get_feature_names()\n",
    "        \n",
    "        X_train, X_test, y_train, y_test = train_test_split (X, y, test_size=0.2, random_state=7)\n",
    "        \n",
    "        self.model.fit (X_train, y_train)\n",
    "        predicted = self.model.predict (X_test)\n",
    "        self.accuracy_score = accuracy_score (y_test, predicted)\n",
    "        print (f\"[Accuracy Score]: {self.accuracy_score}\")\n",
    "        \n",
    "        pickled_data = (self.vectorizer, self.model)\n",
    "        pickle.dump (pickled_data, open(pickle_path, \"wb\"))\n",
    "    \n",
    "    def predict(self, msg):\n",
    "        if not isinstance (msg, pd.Series):\n",
    "            msg = pd.Series ([msg])\n",
    "        msg = self.vectorizer.transform (msg)\n",
    "        return self.model.predict (msg)"
   ]
  },
  {
   "cell_type": "code",
   "execution_count": 64,
   "metadata": {},
   "outputs": [],
   "source": [
    "model = NaiveBayes_Model ()\n",
    "r = Review()"
   ]
  },
  {
   "cell_type": "code",
   "execution_count": 65,
   "metadata": {},
   "outputs": [
    {
     "data": {
      "text/plain": [
       "<bound method Review.pos of <review.Review object at 0x7f701c707490>>"
      ]
     },
     "execution_count": 65,
     "metadata": {},
     "output_type": "execute_result"
    }
   ],
   "source": [
    "r.pos"
   ]
  },
  {
   "cell_type": "code",
   "execution_count": 66,
   "metadata": {},
   "outputs": [
    {
     "data": {
      "text/html": [
       "<div>\n",
       "<style scoped>\n",
       "    .dataframe tbody tr th:only-of-type {\n",
       "        vertical-align: middle;\n",
       "    }\n",
       "\n",
       "    .dataframe tbody tr th {\n",
       "        vertical-align: top;\n",
       "    }\n",
       "\n",
       "    .dataframe thead th {\n",
       "        text-align: right;\n",
       "    }\n",
       "</style>\n",
       "<table border=\"1\" class=\"dataframe\">\n",
       "  <thead>\n",
       "    <tr style=\"text-align: right;\">\n",
       "      <th></th>\n",
       "      <th>Review</th>\n",
       "      <th>Liked</th>\n",
       "    </tr>\n",
       "  </thead>\n",
       "  <tbody>\n",
       "    <tr>\n",
       "      <th>0</th>\n",
       "      <td>Wow... Loved this place.</td>\n",
       "      <td>1</td>\n",
       "    </tr>\n",
       "    <tr>\n",
       "      <th>1</th>\n",
       "      <td>Crust is not good.</td>\n",
       "      <td>0</td>\n",
       "    </tr>\n",
       "    <tr>\n",
       "      <th>2</th>\n",
       "      <td>Not tasty and the texture was just nasty.</td>\n",
       "      <td>0</td>\n",
       "    </tr>\n",
       "    <tr>\n",
       "      <th>3</th>\n",
       "      <td>Stopped by during the late May bank holiday of...</td>\n",
       "      <td>1</td>\n",
       "    </tr>\n",
       "    <tr>\n",
       "      <th>4</th>\n",
       "      <td>The selection on the menu was great and so wer...</td>\n",
       "      <td>1</td>\n",
       "    </tr>\n",
       "  </tbody>\n",
       "</table>\n",
       "</div>"
      ],
      "text/plain": [
       "                                              Review  Liked\n",
       "0                           Wow... Loved this place.      1\n",
       "1                                 Crust is not good.      0\n",
       "2          Not tasty and the texture was just nasty.      0\n",
       "3  Stopped by during the late May bank holiday of...      1\n",
       "4  The selection on the menu was great and so wer...      1"
      ]
     },
     "execution_count": 66,
     "metadata": {},
     "output_type": "execute_result"
    }
   ],
   "source": [
    "df = pd.read_csv (\"../datasets/Restaurant_Reviews.tsv\", sep='\\t')\n",
    "df.head()"
   ]
  },
  {
   "cell_type": "code",
   "execution_count": 34,
   "metadata": {},
   "outputs": [],
   "source": [
    "X = df.iloc[:]['Review']\n",
    "y = df.iloc[:]['Liked']"
   ]
  },
  {
   "cell_type": "code",
   "execution_count": 35,
   "metadata": {},
   "outputs": [
    {
     "data": {
      "text/plain": [
       "0                             Wow... Loved this place.\n",
       "1                                   Crust is not good.\n",
       "2            Not tasty and the texture was just nasty.\n",
       "3    Stopped by during the late May bank holiday of...\n",
       "4    The selection on the menu was great and so wer...\n",
       "Name: Review, dtype: object"
      ]
     },
     "execution_count": 35,
     "metadata": {},
     "output_type": "execute_result"
    }
   ],
   "source": [
    "X.head()"
   ]
  },
  {
   "cell_type": "code",
   "execution_count": 36,
   "metadata": {},
   "outputs": [
    {
     "data": {
      "text/plain": [
       "0    1\n",
       "1    0\n",
       "2    0\n",
       "3    1\n",
       "4    1\n",
       "Name: Liked, dtype: int64"
      ]
     },
     "execution_count": 36,
     "metadata": {},
     "output_type": "execute_result"
    }
   ],
   "source": [
    "y.head()"
   ]
  },
  {
   "cell_type": "code",
   "execution_count": 37,
   "metadata": {},
   "outputs": [
    {
     "data": {
      "text/plain": [
       "['crust not good']"
      ]
     },
     "execution_count": 37,
     "metadata": {},
     "output_type": "execute_result"
    }
   ],
   "source": [
    "r.pre_process (X[1])"
   ]
  },
  {
   "cell_type": "code",
   "execution_count": 38,
   "metadata": {},
   "outputs": [],
   "source": [
    "# r.pre_process (X[2])\n",
    "processed_X = list(' '.join (r.pre_process(x)) for x in X)"
   ]
  },
  {
   "cell_type": "code",
   "execution_count": 39,
   "metadata": {},
   "outputs": [
    {
     "data": {
      "text/plain": [
       "['wow ... love place',\n",
       " 'crust not good',\n",
       " 'not tasty texture nasty',\n",
       " 'stop late bank holiday Rick Steve recommendation love',\n",
       " 'selection menu great price']"
      ]
     },
     "execution_count": 39,
     "metadata": {},
     "output_type": "execute_result"
    }
   ],
   "source": [
    "processed_X[:5]"
   ]
  },
  {
   "cell_type": "code",
   "execution_count": 40,
   "metadata": {},
   "outputs": [
    {
     "data": {
      "text/plain": [
       "1000"
      ]
     },
     "execution_count": 40,
     "metadata": {},
     "output_type": "execute_result"
    }
   ],
   "source": [
    "len (processed_X)"
   ]
  },
  {
   "cell_type": "code",
   "execution_count": 67,
   "metadata": {},
   "outputs": [
    {
     "name": "stdout",
     "output_type": "stream",
     "text": [
      "[Accuracy Score]: 0.585\n"
     ]
    }
   ],
   "source": [
    "model.train (processed_X, y, debug=True)"
   ]
  },
  {
   "cell_type": "code",
   "execution_count": 57,
   "metadata": {},
   "outputs": [
    {
     "data": {
      "text/plain": [
       "124"
      ]
     },
     "execution_count": 57,
     "metadata": {},
     "output_type": "execute_result"
    }
   ],
   "source": [
    "len(model.feature_names)"
   ]
  },
  {
   "cell_type": "code",
   "execution_count": 58,
   "metadata": {},
   "outputs": [
    {
     "data": {
      "text/plain": [
       "['amazing',\n",
       " 'authentic',\n",
       " 'average',\n",
       " 'awesome',\n",
       " 'awful',\n",
       " 'bad',\n",
       " 'bad food',\n",
       " 'be busy',\n",
       " 'beautiful',\n",
       " 'best',\n",
       " 'big',\n",
       " 'bland',\n",
       " 'busy',\n",
       " 'clean',\n",
       " 'close',\n",
       " 'cold',\n",
       " 'comfortable',\n",
       " 'convenient',\n",
       " 'cool',\n",
       " 'delicious',\n",
       " 'different',\n",
       " 'dirty',\n",
       " 'disappointing',\n",
       " 'dry',\n",
       " 'edible',\n",
       " 'excellent',\n",
       " 'familiar',\n",
       " 'fantastic',\n",
       " 'favorite',\n",
       " 'fine',\n",
       " 'flat',\n",
       " 'flavorful',\n",
       " 'food delicious',\n",
       " 'food good',\n",
       " 'food great',\n",
       " 'fresh',\n",
       " 'friendly',\n",
       " 'friendly staff',\n",
       " 'garlic',\n",
       " 'generous',\n",
       " 'generous portion',\n",
       " 'good',\n",
       " 'good food',\n",
       " 'good place',\n",
       " 'good price',\n",
       " 'good service',\n",
       " 'good thing',\n",
       " 'good way',\n",
       " 'great',\n",
       " 'great food',\n",
       " 'great place',\n",
       " 'great service',\n",
       " 'green',\n",
       " 'gross',\n",
       " 'happy',\n",
       " 'hard',\n",
       " 'healthy',\n",
       " 'helpful',\n",
       " 'high',\n",
       " 'homemade',\n",
       " 'honest',\n",
       " 'horrible',\n",
       " 'hot',\n",
       " 'hot dog',\n",
       " 'huge',\n",
       " 'incredible',\n",
       " 'interesting',\n",
       " 'kind',\n",
       " 'large',\n",
       " 'little',\n",
       " 'mediocre',\n",
       " 'mediocre food',\n",
       " 'nasty',\n",
       " 'new',\n",
       " 'nice',\n",
       " 'not good',\n",
       " 'not impressed',\n",
       " 'not sure',\n",
       " 'not worth',\n",
       " 'old',\n",
       " 'outstanding',\n",
       " 'pleasant',\n",
       " 'pleased',\n",
       " 'poor',\n",
       " 'possible',\n",
       " 'pretty good',\n",
       " 'price reasonable',\n",
       " 'quick',\n",
       " 'rare',\n",
       " 'real',\n",
       " 'reasonable',\n",
       " 'regular',\n",
       " 'rude',\n",
       " 'sad',\n",
       " 'second',\n",
       " 'second time',\n",
       " 'server great',\n",
       " 'service good',\n",
       " 'service slow',\n",
       " 'sick',\n",
       " 'slow',\n",
       " 'small',\n",
       " 'special',\n",
       " 'spicy',\n",
       " 'super',\n",
       " 'super friendly',\n",
       " 'super nice',\n",
       " 'sure',\n",
       " 'sushi place',\n",
       " 'sweet',\n",
       " 'sweet potato',\n",
       " 'tasteless',\n",
       " 'tasty',\n",
       " 'terrible',\n",
       " 'thin',\n",
       " 'total',\n",
       " 'vegetarian',\n",
       " 'waitress',\n",
       " 'waitress friendly',\n",
       " 'warm',\n",
       " 'white',\n",
       " 'wonderful',\n",
       " 'worth',\n",
       " 'wrong']"
      ]
     },
     "execution_count": 58,
     "metadata": {},
     "output_type": "execute_result"
    }
   ],
   "source": [
    "model.feature_names"
   ]
  },
  {
   "cell_type": "code",
   "execution_count": 53,
   "metadata": {},
   "outputs": [],
   "source": [
    "features = set(model.feature_names)"
   ]
  },
  {
   "cell_type": "code",
   "execution_count": 24,
   "metadata": {},
   "outputs": [
    {
     "data": {
      "text/plain": [
       "False"
      ]
     },
     "execution_count": 24,
     "metadata": {},
     "output_type": "execute_result"
    }
   ],
   "source": [
    "'like' in features"
   ]
  },
  {
   "cell_type": "code",
   "execution_count": 25,
   "metadata": {},
   "outputs": [
    {
     "data": {
      "text/plain": [
       "array([1])"
      ]
     },
     "execution_count": 25,
     "metadata": {},
     "output_type": "execute_result"
    }
   ],
   "source": [
    "model.predict (\"I didn't like the buffet.\")"
   ]
  },
  {
   "cell_type": "code",
   "execution_count": 26,
   "metadata": {},
   "outputs": [
    {
     "data": {
      "text/plain": [
       "array([1])"
      ]
     },
     "execution_count": 26,
     "metadata": {},
     "output_type": "execute_result"
    }
   ],
   "source": [
    "model.predict (\"I kind of not liked the service.\")"
   ]
  },
  {
   "cell_type": "code",
   "execution_count": 27,
   "metadata": {},
   "outputs": [
    {
     "data": {
      "text/plain": [
       "array([1])"
      ]
     },
     "execution_count": 27,
     "metadata": {},
     "output_type": "execute_result"
    }
   ],
   "source": [
    "model.predict (\"Food was good but service could have been better.\")"
   ]
  },
  {
   "cell_type": "code",
   "execution_count": 28,
   "metadata": {},
   "outputs": [
    {
     "data": {
      "text/plain": [
       "array([1])"
      ]
     },
     "execution_count": 28,
     "metadata": {},
     "output_type": "execute_result"
    }
   ],
   "source": [
    "model.predict (\"Buffet was ok but service ruined it.\")"
   ]
  },
  {
   "cell_type": "code",
   "execution_count": 21,
   "metadata": {},
   "outputs": [
    {
     "data": {
      "text/plain": [
       "701"
      ]
     },
     "execution_count": 21,
     "metadata": {},
     "output_type": "execute_result"
    }
   ],
   "source": [
    "len(model.feature_names)"
   ]
  },
  {
   "cell_type": "code",
   "execution_count": 22,
   "metadata": {},
   "outputs": [
    {
     "name": "stdout",
     "output_type": "stream",
     "text": [
      "{100, 92, 86, 84}\n"
     ]
    },
    {
     "data": {
      "text/plain": [
       "array([1])"
      ]
     },
     "execution_count": 22,
     "metadata": {},
     "output_type": "execute_result"
    }
   ],
   "source": [
    "sen = \"food was not tasty\"\n",
    "print (model.pos(sen))\n",
    "model.predict (sen)"
   ]
  },
  {
   "cell_type": "code",
   "execution_count": null,
   "metadata": {},
   "outputs": [],
   "source": []
  },
  {
   "cell_type": "code",
   "execution_count": null,
   "metadata": {},
   "outputs": [],
   "source": []
  },
  {
   "cell_type": "code",
   "execution_count": null,
   "metadata": {},
   "outputs": [],
   "source": []
  },
  {
   "cell_type": "code",
   "execution_count": null,
   "metadata": {},
   "outputs": [],
   "source": []
  }
 ],
 "metadata": {
  "kernelspec": {
   "display_name": "Python 3",
   "language": "python",
   "name": "python3"
  },
  "language_info": {
   "codemirror_mode": {
    "name": "ipython",
    "version": 3
   },
   "file_extension": ".py",
   "mimetype": "text/x-python",
   "name": "python",
   "nbconvert_exporter": "python",
   "pygments_lexer": "ipython3",
   "version": "3.7.4"
  }
 },
 "nbformat": 4,
 "nbformat_minor": 2
}
