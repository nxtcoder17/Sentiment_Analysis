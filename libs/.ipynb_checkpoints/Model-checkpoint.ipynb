{
 "cells": [
  {
   "cell_type": "code",
   "execution_count": 5,
   "metadata": {},
   "outputs": [],
   "source": [
    "from sklearn.naive_bayes import MultinomialNB\n",
    "from sklearn.model_selection import train_test_split\n",
    "from sklearn.feature_extraction.text import TfidfVectorizer\n",
    "from sklearn.metrics import accuracy_score, confusion_matrix, classification_report\n",
    "from pathlib import Path\n",
    "import pickle\n",
    "from review import Review"
   ]
  },
  {
   "cell_type": "code",
   "execution_count": 6,
   "metadata": {},
   "outputs": [
    {
     "ename": "SyntaxError",
     "evalue": "invalid syntax (<ipython-input-6-592b08eabedb>, line 18)",
     "output_type": "error",
     "traceback": [
      "\u001b[0;36m  File \u001b[0;32m\"<ipython-input-6-592b08eabedb>\"\u001b[0;36m, line \u001b[0;32m18\u001b[0m\n\u001b[0;31m    self.model = pickle.load (open(pickle_path), \"rb\"))\u001b[0m\n\u001b[0m                                                      ^\u001b[0m\n\u001b[0;31mSyntaxError\u001b[0m\u001b[0;31m:\u001b[0m invalid syntax\n"
     ]
    }
   ],
   "source": [
    "##################################################################\n",
    "### Multinomial NaiveBayes Model for Sentiment Analysis Review ###\n",
    "##################################################################\n",
    "class NaiveBayes_Model:\n",
    "    def __init__(self):\n",
    "        self.vectorizer = TfidfVectorizer()\n",
    "        self.model = MultinomialNB()\n",
    "        self.accuracy = None\n",
    "        \n",
    "    def train(self, X=None, y=None, debug=False):\n",
    "        \"\"\"\n",
    "            X: the training data input\n",
    "            y: the correct label for the training data\n",
    "        \"\"\"\n",
    "        pickle_path = Path (\"multinomial_NB.pickle\")\n",
    "        if debug:\n",
    "            if Path.exists (pickle_path):\n",
    "                self.model = pickle.load (open(pickle_path, \"rb\"))\n",
    "                print (\"!!! Multinomial_NB model already trained.....skipping the training\")\n",
    "                print(\"[help]: call method train() with debug=True argument\")\n",
    "                return;\n",
    "            \n",
    "        assert X is not None and y is not None, \"No data given, How do i train ? (.>_<.)\"\n",
    "        X = self.vectorizer.fit_transform (X)\n",
    "        X_train, X_test, y_train, y_test = train_test_split (X, y, test_size=0.2, random_state=7)\n",
    "        \n",
    "        self.model.fit (X_train, y_train)\n",
    "        predicted = self.model.test (X_test)\n",
    "        self.accuracy_score = accuracy_score (y_test, predicted)\n",
    "        print (f\"[Accuracy Score]: {self.accuracy_score}\")\n",
    "        \n",
    "        pickle.dump (self.model, open(pickle_path, \"wb\"))\n",
    "    \n",
    "    def predict(self, msg):\n",
    "        msg = self.vectorizer.transform (msg)\n",
    "        return self.model.predict (msg)"
   ]
  },
  {
   "cell_type": "code",
   "execution_count": null,
   "metadata": {},
   "outputs": [],
   "source": []
  }
 ],
 "metadata": {
  "kernelspec": {
   "display_name": "Python 3",
   "language": "python",
   "name": "python3"
  },
  "language_info": {
   "codemirror_mode": {
    "name": "ipython",
    "version": 3
   },
   "file_extension": ".py",
   "mimetype": "text/x-python",
   "name": "python",
   "nbconvert_exporter": "python",
   "pygments_lexer": "ipython3",
   "version": "3.7.4"
  }
 },
 "nbformat": 4,
 "nbformat_minor": 2
}
