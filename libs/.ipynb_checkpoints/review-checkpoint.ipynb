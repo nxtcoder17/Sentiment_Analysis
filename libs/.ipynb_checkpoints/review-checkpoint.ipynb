{
 "cells": [
  {
   "cell_type": "code",
   "execution_count": 1,
   "metadata": {},
   "outputs": [],
   "source": [
    "import spacy\n",
    "import re\n",
    "from spacy.matcher import Matcher"
   ]
  },
  {
   "cell_type": "code",
   "execution_count": 2,
   "metadata": {},
   "outputs": [],
   "source": [
    "nlp = spacy.load ('en_core_web_sm')"
   ]
  },
  {
   "cell_type": "code",
   "execution_count": 60,
   "metadata": {},
   "outputs": [],
   "source": [
    "#######################################################################\n",
    "### Every Review will be parsed as per this Review class            ###\n",
    "#######################################################################\n",
    "\n",
    "class Review:\n",
    "    def __init__ (self):\n",
    "        self.abbreviations = set ( \"i.e. e.g. am mr mrs dr. prof. kg lbs cm in m mm ft\".split() )\n",
    "        \n",
    "    def remove_urls_hyperlinks (self, review):\n",
    "        pattern = r\"\\s*(http[s]?:[/]{2}www[.])?([a-z0-9]+)[.]([a-z]{3})([/][A-Za-z0-9?='.]*)*\\s*\"\n",
    "        \n",
    "        \"\"\"\n",
    "        Pattern matched below urls and hyperlinks, i guess it works for now\n",
    "            http://www.google.com \n",
    "            https://www.google.com\n",
    "            www.google.com\n",
    "            google.com \n",
    "            zomato.com\n",
    "            zomato.com/\n",
    "            zomato.com/items/this?dir=hello\n",
    "            https://www.zomato.com/places/NewDelhi/bbqnation/12.html\n",
    "        \"\"\"\n",
    "        return re.sub (pattern, '', review)\n",
    "        \n",
    "        \n",
    "    def token_merge (self, doc):\n",
    "        # patterns for can't, didn't shouldn't wouldn't wasn't\n",
    "        verb_patterns = [\n",
    "            [{\"TEXT\": {\"REGEX\": r\"ca|did|should|would|was\"}}, {\"LOWER\": \"n't\"}],\n",
    "        ]\n",
    "        matcher = Matcher (nlp.vocab)\n",
    "        matcher.add ('neg_verbs', None, *verb_patterns)\n",
    "        for _,start,end in matcher (doc):\n",
    "            span = doc[start: end]\n",
    "            span.merge()\n",
    "        \n",
    "        return doc\n",
    "        \n",
    "    def split_into_sentences (self, review):\n",
    "        \"\"\"\n",
    "            While Splitting a big chunk of review, we need to take care of a few things first\n",
    "            1. split on . (fullstops)\n",
    "            2. Don't split if the (.) is a part of any standard abbreviation\n",
    "            3. Split in case you found a conjunction joining the words, cause most of the time\n",
    "               that sentence will convey 2 different sentiments, we don't want that for now.\n",
    "        \"\"\"\n",
    "        doc = nlp (review)\n",
    "        doc = self.token_merge (doc)\n",
    "        start = 0\n",
    "        splits = []\n",
    "        for token in doc:\n",
    "            # print (token, end=' # ')\n",
    "            ## Step 1:\n",
    "            if token.text.strip() == '.':\n",
    "                # Step 2: Check for previous token being an Abbreviation\n",
    "                if (token.i-1) >= 0 and doc[token.i - 1].text.lower() in self.abbreviations:\n",
    "                    pass\n",
    "                else:\n",
    "                    splits.append (doc[start: token.i])\n",
    "                    start = token.i + 1\n",
    "            # Step 3: Splitting on Conjunctions or ADP\n",
    "            elif token.pos == 89:\n",
    "                splits.append (doc[start: token.i])\n",
    "                start = token.i + 1\n",
    "                \n",
    "        if len (doc[start: ]) > 0:\n",
    "            splits.append (doc[start: ])\n",
    "        return splits\n",
    "    \n",
    "    def pre_process (self, msg):\n",
    "        msg = self.remove_urls_hyperlinks (msg)\n",
    "        return self.split_into_sentences (msg)"
   ]
  },
  {
   "cell_type": "code",
   "execution_count": 63,
   "metadata": {},
   "outputs": [],
   "source": [
    "r = Review ()"
   ]
  },
  {
   "cell_type": "code",
   "execution_count": 66,
   "metadata": {},
   "outputs": [
    {
     "data": {
      "text/plain": [
       "[I would like 2.4kg of weight,\n",
       " I didn't like the food,\n",
       " i wouldn't have liked the service pretty much]"
      ]
     },
     "execution_count": 66,
     "metadata": {},
     "output_type": "execute_result"
    }
   ],
   "source": [
    "msg = \"I would like 2.4kg of weight but I didn't like the food and i wouldn't have liked the service pretty much.\"\n",
    "r.split_into_sentences(msg)"
   ]
  },
  {
   "cell_type": "code",
   "execution_count": 67,
   "metadata": {},
   "outputs": [
    {
     "ename": "TypeError",
     "evalue": "__init__() takes 1 positional argument but 2 were given",
     "output_type": "error",
     "traceback": [
      "\u001b[0;31m---------------------------------------------------------------------------\u001b[0m",
      "\u001b[0;31mTypeError\u001b[0m                                 Traceback (most recent call last)",
      "\u001b[0;32m<ipython-input-67-e11f5548b323>\u001b[0m in \u001b[0;36m<module>\u001b[0;34m\u001b[0m\n\u001b[0;32m----> 1\u001b[0;31m \u001b[0mr2\u001b[0m \u001b[0;34m=\u001b[0m \u001b[0mReview\u001b[0m \u001b[0;34m(\u001b[0m\u001b[0;34m\"I wouldn't like you if you did that\"\u001b[0m\u001b[0;34m)\u001b[0m\u001b[0;34m\u001b[0m\u001b[0;34m\u001b[0m\u001b[0m\n\u001b[0m\u001b[1;32m      2\u001b[0m \u001b[0mx\u001b[0m \u001b[0;34m=\u001b[0m \u001b[0mr2\u001b[0m\u001b[0;34m.\u001b[0m\u001b[0msplit_into_sentences\u001b[0m\u001b[0;34m(\u001b[0m\u001b[0;34m)\u001b[0m\u001b[0;34m[\u001b[0m\u001b[0;36m0\u001b[0m\u001b[0;34m]\u001b[0m\u001b[0;34m\u001b[0m\u001b[0;34m\u001b[0m\u001b[0m\n\u001b[1;32m      3\u001b[0m \u001b[0mx\u001b[0m\u001b[0;34m\u001b[0m\u001b[0;34m\u001b[0m\u001b[0m\n",
      "\u001b[0;31mTypeError\u001b[0m: __init__() takes 1 positional argument but 2 were given"
     ]
    }
   ],
   "source": [
    "r2 = Review ()\n",
    "msg = \"I wouldn't like you if you did that\"\n",
    "x = r2.split_into_sentences()[0]\n",
    "x"
   ]
  },
  {
   "cell_type": "code",
   "execution_count": null,
   "metadata": {},
   "outputs": [],
   "source": []
  },
  {
   "cell_type": "code",
   "execution_count": null,
   "metadata": {},
   "outputs": [],
   "source": []
  }
 ],
 "metadata": {
  "kernelspec": {
   "display_name": "Python 3",
   "language": "python",
   "name": "python3"
  },
  "language_info": {
   "codemirror_mode": {
    "name": "ipython",
    "version": 3
   },
   "file_extension": ".py",
   "mimetype": "text/x-python",
   "name": "python",
   "nbconvert_exporter": "python",
   "pygments_lexer": "ipython3",
   "version": "3.7.4"
  }
 },
 "nbformat": 4,
 "nbformat_minor": 4
}
