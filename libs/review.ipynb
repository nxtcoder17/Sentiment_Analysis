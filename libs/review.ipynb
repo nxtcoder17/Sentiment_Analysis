{
 "cells": [
  {
   "cell_type": "code",
   "execution_count": 2,
   "metadata": {},
   "outputs": [],
   "source": [
    "import spacy\n",
    "import re\n",
    "from spacy.matcher import Matcher"
   ]
  },
  {
   "cell_type": "code",
   "execution_count": 3,
   "metadata": {},
   "outputs": [],
   "source": [
    "nlp = spacy.load ('en_core_web_sm')"
   ]
  },
  {
   "cell_type": "code",
   "execution_count": 24,
   "metadata": {},
   "outputs": [],
   "source": [
    "#######################################################################\n",
    "### Every Review will be parsed as per this Review class            ###\n",
    "#######################################################################\n",
    "\n",
    "class Review:\n",
    "    def __init__ (self):\n",
    "        self.abbreviations = set ( \"i.e. e.g. am mr mrs dr. prof. kg lbs cm in m mm ft\".split() )\n",
    "        \n",
    "    def remove_urls_hyperlinks (self, review):\n",
    "        pattern = r\"\\s*(http[s]?:[/]{2}www[.])?([a-z0-9]+)[.]([a-z]{3})([/][A-Za-z0-9?='.]*)*\\s*\"\n",
    "        \n",
    "        \"\"\"\n",
    "        Pattern matched below urls and hyperlinks, i guess it works for now\n",
    "            http://www.google.com \n",
    "            https://www.google.com\n",
    "            www.google.com\n",
    "            google.com \n",
    "            zomato.com\n",
    "            zomato.com/\n",
    "            zomato.com/items/this?dir=hello\n",
    "            https://www.zomato.com/places/NewDelhi/bbqnation/12.html\n",
    "        \"\"\"\n",
    "        return re.sub (pattern, '', review)\n",
    "        \n",
    "        \n",
    "    def token_merge (self, doc):\n",
    "        # patterns for can't, didn't shouldn't wouldn't wasn't\n",
    "        verb_patterns = [\n",
    "            [{\"TEXT\": {\"REGEX\": r\"ca|did|should|would|was\"}}, {\"LOWER\": \"n't\"}],\n",
    "        ]\n",
    "        matcher = Matcher (nlp.vocab)\n",
    "        matcher.add ('neg_verbs', None, *verb_patterns)\n",
    "        for _,start,end in matcher (doc):\n",
    "            span = doc[start: end]\n",
    "            span.merge()\n",
    "        \n",
    "        return doc\n",
    "    \n",
    "    def to_string (self, doc):\n",
    "        \"\"\"\n",
    "            param:\n",
    "                doc -> an nlp object ie. object of spacy.load() instance\n",
    "        \"\"\"\n",
    "        if isinstance (doc, str):\n",
    "            # Means, function got a string instead of a doc\n",
    "            doc = nlp (doc)\n",
    "        # doc.ents -> returns a tuple of spacy spans\n",
    "        # spans -> returns tokens\n",
    "        ne_indices = set([token.i for token in [span for span in doc.ents]])\n",
    "        msg = \"\"\n",
    "        for token in doc:\n",
    "            if token.i not in ne_indices:\n",
    "                msg += token.text\n",
    "        return msg\n",
    "                \n",
    "        \n",
    "    def split_into_sentences (self, review):\n",
    "        \"\"\"\n",
    "            While Splitting a big chunk of review, we need to take care of a few things first\n",
    "            1. split on . (fullstops)\n",
    "            2. Don't split if the (.) is a part of any standard abbreviation\n",
    "            3. Split in case you found a conjunction joining the words, cause most of the time\n",
    "               that sentence will convey 2 different sentiments, we don't want that for now.\n",
    "            4. Drop Punctuations\n",
    "        \"\"\"\n",
    "        doc = nlp (review)\n",
    "        doc = self.token_merge (doc)\n",
    "        start = 0\n",
    "        splits = []\n",
    "        for token in doc:\n",
    "            # print (token, end=' # ')\n",
    "            ## Step 1:\n",
    "            if token.text.strip() == '.':\n",
    "                # Step 2: Check for previous token being an Abbreviation\n",
    "                if (token.i-1) >= 0 and doc[token.i - 1].text.lower() in self.abbreviations:\n",
    "                    pass\n",
    "                else:\n",
    "                    splits.append (doc[start: token.i])\n",
    "                    start = token.i + 1\n",
    "            # Step 3: Splitting on Conjunctions or ADP\n",
    "            elif token.pos == 89:\n",
    "                splits.append (doc[start: token.i])\n",
    "                start = token.i + 1\n",
    "                \n",
    "        if len (doc[start: ]) > 0:\n",
    "            splits.append (doc[start: ])\n",
    "        return splits\n",
    "    \n",
    "    def pre_process (self, msg):\n",
    "        msg = self.remove_urls_hyperlinks (msg)\n",
    "        return self.split_into_sentences (msg)"
   ]
  },
  {
   "cell_type": "code",
   "execution_count": 25,
   "metadata": {},
   "outputs": [],
   "source": [
    "r = Review ()"
   ]
  },
  {
   "cell_type": "code",
   "execution_count": 73,
   "metadata": {},
   "outputs": [
    {
     "data": {
      "text/plain": [
       "[I would like 2.4kg of weight,\n",
       " I didn't like the food,\n",
       " i wouldn't have liked the service pretty much]"
      ]
     },
     "execution_count": 73,
     "metadata": {},
     "output_type": "execute_result"
    }
   ],
   "source": [
    "msg = \"I would like 2.4kg of weight but I didn't like the food and i wouldn't have liked the service pretty much.\"\n",
    "r.split_into_sentences(msg)"
   ]
  },
  {
   "cell_type": "code",
   "execution_count": 4,
   "metadata": {},
   "outputs": [
    {
     "ename": "NameError",
     "evalue": "name 'Review' is not defined",
     "output_type": "error",
     "traceback": [
      "\u001b[0;31m---------------------------------------------------------------------------\u001b[0m",
      "\u001b[0;31mNameError\u001b[0m                                 Traceback (most recent call last)",
      "\u001b[0;32m<ipython-input-4-78c124d76380>\u001b[0m in \u001b[0;36m<module>\u001b[0;34m\u001b[0m\n\u001b[0;32m----> 1\u001b[0;31m \u001b[0mr2\u001b[0m \u001b[0;34m=\u001b[0m \u001b[0mReview\u001b[0m \u001b[0;34m(\u001b[0m\u001b[0;34m)\u001b[0m\u001b[0;34m\u001b[0m\u001b[0;34m\u001b[0m\u001b[0m\n\u001b[0m\u001b[1;32m      2\u001b[0m \u001b[0mmsg\u001b[0m \u001b[0;34m=\u001b[0m \u001b[0;34m\"I wouldn't like you if you did that\"\u001b[0m\u001b[0;34m\u001b[0m\u001b[0;34m\u001b[0m\u001b[0m\n\u001b[1;32m      3\u001b[0m \u001b[0mr2\u001b[0m\u001b[0;34m.\u001b[0m\u001b[0msplit_into_sentences\u001b[0m \u001b[0;34m(\u001b[0m\u001b[0mmsg\u001b[0m\u001b[0;34m)\u001b[0m\u001b[0;34m\u001b[0m\u001b[0;34m\u001b[0m\u001b[0m\n",
      "\u001b[0;31mNameError\u001b[0m: name 'Review' is not defined"
     ]
    }
   ],
   "source": [
    "r2 = Review ()\n",
    "msg = \"I wouldn't like you if you did that\"\n",
    "r2.split_into_sentences (msg)"
   ]
  },
  {
   "cell_type": "code",
   "execution_count": 27,
   "metadata": {},
   "outputs": [
    {
     "ename": "AttributeError",
     "evalue": "'spacy.tokens.span.Span' object has no attribute 'i'",
     "output_type": "error",
     "traceback": [
      "\u001b[0;31m---------------------------------------------------------------------------\u001b[0m",
      "\u001b[0;31mAttributeError\u001b[0m                            Traceback (most recent call last)",
      "\u001b[0;32m<ipython-input-27-985e2cf626c3>\u001b[0m in \u001b[0;36m<module>\u001b[0;34m\u001b[0m\n\u001b[0;32m----> 1\u001b[0;31m \u001b[0mr\u001b[0m\u001b[0;34m.\u001b[0m\u001b[0mto_string\u001b[0m \u001b[0;34m(\u001b[0m\u001b[0;34m\"Mr. Narendra Modi is the prime minister of India.\"\u001b[0m\u001b[0;34m)\u001b[0m\u001b[0;34m\u001b[0m\u001b[0;34m\u001b[0m\u001b[0m\n\u001b[0m",
      "\u001b[0;32m<ipython-input-24-e6ab7ef753ea>\u001b[0m in \u001b[0;36mto_string\u001b[0;34m(self, doc)\u001b[0m\n\u001b[1;32m     47\u001b[0m         \u001b[0;31m# doc.ents -> returns a tuple of spacy spans\u001b[0m\u001b[0;34m\u001b[0m\u001b[0;34m\u001b[0m\u001b[0;34m\u001b[0m\u001b[0m\n\u001b[1;32m     48\u001b[0m         \u001b[0;31m# spans -> returns tokens\u001b[0m\u001b[0;34m\u001b[0m\u001b[0;34m\u001b[0m\u001b[0;34m\u001b[0m\u001b[0m\n\u001b[0;32m---> 49\u001b[0;31m         \u001b[0mne_indices\u001b[0m \u001b[0;34m=\u001b[0m \u001b[0mset\u001b[0m\u001b[0;34m(\u001b[0m\u001b[0;34m[\u001b[0m\u001b[0mtoken\u001b[0m\u001b[0;34m.\u001b[0m\u001b[0mi\u001b[0m \u001b[0;32mfor\u001b[0m \u001b[0mtoken\u001b[0m \u001b[0;32min\u001b[0m \u001b[0;34m[\u001b[0m\u001b[0mspan\u001b[0m \u001b[0;32mfor\u001b[0m \u001b[0mspan\u001b[0m \u001b[0;32min\u001b[0m \u001b[0mdoc\u001b[0m\u001b[0;34m.\u001b[0m\u001b[0ments\u001b[0m\u001b[0;34m]\u001b[0m\u001b[0;34m]\u001b[0m\u001b[0;34m)\u001b[0m\u001b[0;34m\u001b[0m\u001b[0;34m\u001b[0m\u001b[0m\n\u001b[0m\u001b[1;32m     50\u001b[0m         \u001b[0mmsg\u001b[0m \u001b[0;34m=\u001b[0m \u001b[0;34m' '\u001b[0m\u001b[0;34m.\u001b[0m\u001b[0mjoin\u001b[0m \u001b[0;34m(\u001b[0m\u001b[0mmap\u001b[0m \u001b[0;34m(\u001b[0m\u001b[0;32mlambda\u001b[0m \u001b[0mx\u001b[0m\u001b[0;34m:\u001b[0m \u001b[0mx\u001b[0m\u001b[0;34m.\u001b[0m\u001b[0mtext_\u001b[0m\u001b[0;34m.\u001b[0m\u001b[0mlower\u001b[0m\u001b[0;34m(\u001b[0m\u001b[0;34m)\u001b[0m \u001b[0;32mif\u001b[0m \u001b[0mx\u001b[0m\u001b[0;34m.\u001b[0m\u001b[0mi\u001b[0m \u001b[0;32mnot\u001b[0m \u001b[0;32min\u001b[0m \u001b[0mne_indices\u001b[0m \u001b[0;32melse\u001b[0m \u001b[0mx\u001b[0m\u001b[0;34m.\u001b[0m\u001b[0mtext_\u001b[0m\u001b[0;34m,\u001b[0m \u001b[0mdoc\u001b[0m\u001b[0;34m)\u001b[0m\u001b[0;34m)\u001b[0m\u001b[0;34m\u001b[0m\u001b[0;34m\u001b[0m\u001b[0m\n\u001b[1;32m     51\u001b[0m         \u001b[0;32mreturn\u001b[0m \u001b[0mmsg\u001b[0m\u001b[0;34m\u001b[0m\u001b[0;34m\u001b[0m\u001b[0m\n",
      "\u001b[0;32m<ipython-input-24-e6ab7ef753ea>\u001b[0m in \u001b[0;36m<listcomp>\u001b[0;34m(.0)\u001b[0m\n\u001b[1;32m     47\u001b[0m         \u001b[0;31m# doc.ents -> returns a tuple of spacy spans\u001b[0m\u001b[0;34m\u001b[0m\u001b[0;34m\u001b[0m\u001b[0;34m\u001b[0m\u001b[0m\n\u001b[1;32m     48\u001b[0m         \u001b[0;31m# spans -> returns tokens\u001b[0m\u001b[0;34m\u001b[0m\u001b[0;34m\u001b[0m\u001b[0;34m\u001b[0m\u001b[0m\n\u001b[0;32m---> 49\u001b[0;31m         \u001b[0mne_indices\u001b[0m \u001b[0;34m=\u001b[0m \u001b[0mset\u001b[0m\u001b[0;34m(\u001b[0m\u001b[0;34m[\u001b[0m\u001b[0mtoken\u001b[0m\u001b[0;34m.\u001b[0m\u001b[0mi\u001b[0m \u001b[0;32mfor\u001b[0m \u001b[0mtoken\u001b[0m \u001b[0;32min\u001b[0m \u001b[0;34m[\u001b[0m\u001b[0mspan\u001b[0m \u001b[0;32mfor\u001b[0m \u001b[0mspan\u001b[0m \u001b[0;32min\u001b[0m \u001b[0mdoc\u001b[0m\u001b[0;34m.\u001b[0m\u001b[0ments\u001b[0m\u001b[0;34m]\u001b[0m\u001b[0;34m]\u001b[0m\u001b[0;34m)\u001b[0m\u001b[0;34m\u001b[0m\u001b[0;34m\u001b[0m\u001b[0m\n\u001b[0m\u001b[1;32m     50\u001b[0m         \u001b[0mmsg\u001b[0m \u001b[0;34m=\u001b[0m \u001b[0;34m' '\u001b[0m\u001b[0;34m.\u001b[0m\u001b[0mjoin\u001b[0m \u001b[0;34m(\u001b[0m\u001b[0mmap\u001b[0m \u001b[0;34m(\u001b[0m\u001b[0;32mlambda\u001b[0m \u001b[0mx\u001b[0m\u001b[0;34m:\u001b[0m \u001b[0mx\u001b[0m\u001b[0;34m.\u001b[0m\u001b[0mtext_\u001b[0m\u001b[0;34m.\u001b[0m\u001b[0mlower\u001b[0m\u001b[0;34m(\u001b[0m\u001b[0;34m)\u001b[0m \u001b[0;32mif\u001b[0m \u001b[0mx\u001b[0m\u001b[0;34m.\u001b[0m\u001b[0mi\u001b[0m \u001b[0;32mnot\u001b[0m \u001b[0;32min\u001b[0m \u001b[0mne_indices\u001b[0m \u001b[0;32melse\u001b[0m \u001b[0mx\u001b[0m\u001b[0;34m.\u001b[0m\u001b[0mtext_\u001b[0m\u001b[0;34m,\u001b[0m \u001b[0mdoc\u001b[0m\u001b[0;34m)\u001b[0m\u001b[0;34m)\u001b[0m\u001b[0;34m\u001b[0m\u001b[0;34m\u001b[0m\u001b[0m\n\u001b[1;32m     51\u001b[0m         \u001b[0;32mreturn\u001b[0m \u001b[0mmsg\u001b[0m\u001b[0;34m\u001b[0m\u001b[0;34m\u001b[0m\u001b[0m\n",
      "\u001b[0;31mAttributeError\u001b[0m: 'spacy.tokens.span.Span' object has no attribute 'i'"
     ]
    }
   ],
   "source": [
    "r.to_string (\"Mr. Narendra Modi is the prime minister of India.\")"
   ]
  },
  {
   "cell_type": "code",
   "execution_count": 29,
   "metadata": {},
   "outputs": [
    {
     "name": "stdout",
     "output_type": "stream",
     "text": [
      "Mr.\n",
      "Narendra\n",
      "Modi\n",
      "is\n",
      "the\n",
      "Prime\n",
      "Minister\n",
      "of\n",
      "India\n",
      ".\n"
     ]
    }
   ],
   "source": [
    "for token in doc:\n",
    "    print (token.text)"
   ]
  },
  {
   "cell_type": "code",
   "execution_count": 8,
   "metadata": {},
   "outputs": [
    {
     "data": {
      "text/plain": [
       "(Narendra Modi, India)"
      ]
     },
     "execution_count": 8,
     "metadata": {},
     "output_type": "execute_result"
    }
   ],
   "source": [
    "doc.ents"
   ]
  },
  {
   "cell_type": "code",
   "execution_count": 9,
   "metadata": {},
   "outputs": [
    {
     "name": "stdout",
     "output_type": "stream",
     "text": [
      "Narendra Modi\n",
      "India\n"
     ]
    }
   ],
   "source": [
    "for i in doc.ents:\n",
    "    print (i)"
   ]
  },
  {
   "cell_type": "code",
   "execution_count": 20,
   "metadata": {},
   "outputs": [
    {
     "name": "stdout",
     "output_type": "stream",
     "text": [
      "Narendra 1\n",
      "Modi 2\n"
     ]
    }
   ],
   "source": [
    "for i in doc.ents[0]:\n",
    "    print (i, i.i)"
   ]
  },
  {
   "cell_type": "code",
   "execution_count": 22,
   "metadata": {},
   "outputs": [
    {
     "data": {
      "text/plain": [
       "spacy.tokens.doc.Doc"
      ]
     },
     "execution_count": 22,
     "metadata": {},
     "output_type": "execute_result"
    }
   ],
   "source": [
    "type (doc)"
   ]
  },
  {
   "cell_type": "code",
   "execution_count": 23,
   "metadata": {},
   "outputs": [
    {
     "data": {
      "text/plain": [
       "spacy.tokens.span.Span"
      ]
     },
     "execution_count": 23,
     "metadata": {},
     "output_type": "execute_result"
    }
   ],
   "source": [
    "type (doc.ents[0])"
   ]
  },
  {
   "cell_type": "code",
   "execution_count": null,
   "metadata": {},
   "outputs": [],
   "source": []
  }
 ],
 "metadata": {
  "kernelspec": {
   "display_name": "Python 3",
   "language": "python",
   "name": "python3"
  },
  "language_info": {
   "codemirror_mode": {
    "name": "ipython",
    "version": 3
   },
   "file_extension": ".py",
   "mimetype": "text/x-python",
   "name": "python",
   "nbconvert_exporter": "python",
   "pygments_lexer": "ipython3",
   "version": "3.7.4"
  }
 },
 "nbformat": 4,
 "nbformat_minor": 4
}
